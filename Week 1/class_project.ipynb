{
 "cells": [
  {
   "cell_type": "code",
   "execution_count": 3,
   "id": "a80e3503-c8a8-48c1-9465-0db999556984",
   "metadata": {},
   "outputs": [
    {
     "name": "stdin",
     "output_type": "stream",
     "text": [
      "principal 20\n",
      "rate 2\n",
      "time 2\n"
     ]
    },
    {
     "name": "stdout",
     "output_type": "stream",
     "text": [
      "The simple interest is 20.8\n"
     ]
    }
   ],
   "source": [
    "p = int(input(\"principal\"))\n",
    "r = int(input(\"rate\"))\n",
    "t = int(input(\"time\"))\n",
    "a = p * (1 + ((r/100) * t))\n",
    "print(\"The simple interest is\", a)"
   ]
  },
  {
   "cell_type": "code",
   "execution_count": 6,
   "id": "2295158e-ae38-4cb4-b889-0c2a155d02f6",
   "metadata": {},
   "outputs": [
    {
     "name": "stdin",
     "output_type": "stream",
     "text": [
      "principal 20\n",
      "rate 2\n",
      "number 2\n",
      "time 1\n"
     ]
    },
    {
     "name": "stdout",
     "output_type": "stream",
     "text": [
      "The compound interest is 40.0\n"
     ]
    }
   ],
   "source": [
    "p = int(input(\"principal\"))\n",
    "r = int(input(\"rate\"))\n",
    "n = int(input(\"number\"))\n",
    "t = int(input(\"time\"))\n",
    "a = p * (1 + ((r/n) ** (n * t)))\n",
    "print(\"The compound interest is\", a)"
   ]
  },
  {
   "cell_type": "code",
   "execution_count": 7,
   "id": "0a77beda-395f-440b-a4cd-dd6a3504c89c",
   "metadata": {},
   "outputs": [
    {
     "name": "stdin",
     "output_type": "stream",
     "text": [
      "principal 20\n",
      "cash payment per period 2\n",
      "rate 2\n",
      "number 2\n",
      "time 1\n"
     ]
    },
    {
     "name": "stdout",
     "output_type": "stream",
     "text": [
      "The annuity plan is 6.0\n"
     ]
    }
   ],
   "source": [
    "p = int(input(\"principal\"))\n",
    "pmt = int(input(\"cash payment per period\"))\n",
    "r = int(input(\"rate\"))\n",
    "n = int(input(\"number\"))\n",
    "t = int(input(\"time\"))\n",
    "a = pmt * (((1 + (r/n)) ** (n * t) - 1) / (r/n))\n",
    "print(\"The annuity plan is\", a)"
   ]
  },
  {
   "cell_type": "code",
   "execution_count": null,
   "id": "b8427416-a2fd-4550-b70c-49efcb80a17d",
   "metadata": {},
   "outputs": [],
   "source": []
  }
 ],
 "metadata": {
  "kernelspec": {
   "display_name": "Python 3 (ipykernel)",
   "language": "python",
   "name": "python3"
  },
  "language_info": {
   "codemirror_mode": {
    "name": "ipython",
    "version": 3
   },
   "file_extension": ".py",
   "mimetype": "text/x-python",
   "name": "python",
   "nbconvert_exporter": "python",
   "pygments_lexer": "ipython3",
   "version": "3.11.7"
  }
 },
 "nbformat": 4,
 "nbformat_minor": 5
}
