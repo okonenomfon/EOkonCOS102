{
 "cells": [
  {
   "cell_type": "code",
   "execution_count": null,
   "metadata": {},
   "outputs": [],
   "source": [
    "#Practice 1\n",
    "\n",
    "def printme( str ):\n",
    "    print (str);\n",
    "    return;\n",
    "\n",
    "printme(\"I am first call to user defined function!\");\n",
    "printme(\"Again second call to the same function\");"
   ]
  },
  {
   "cell_type": "code",
   "execution_count": null,
   "metadata": {},
   "outputs": [],
   "source": [
    "#Practice 2\n",
    "def changeme(mylist):\n",
    "    mylist.append([1,2,3,4])\n",
    "    print (\"Values inside the function: \", mylist)\n",
    "    return\n",
    "mylist = [10, 20, 30]\n",
    "changeme(mylist)\n",
    "print (\"Values outside the function: \", mylist)\n"
   ]
  },
  {
   "cell_type": "code",
   "execution_count": null,
   "metadata": {},
   "outputs": [],
   "source": [
    "#Practice 3\n",
    "def changeme(mylist):\n",
    "    mylist = [1,2,3,4];\n",
    "    print (\"Values inside the function: \", mylist)\n",
    "    return\n",
    "mylist = [10, 20, 30];\n",
    "changeme(mylist);\n",
    "print (\"Values outside the function: \", mylist)\n"
   ]
  },
  {
   "cell_type": "code",
   "execution_count": null,
   "metadata": {},
   "outputs": [],
   "source": [
    "#Practice 4\n",
    "\n",
    "def printme( str ):\n",
    "    print (str);\n",
    "    return;\n",
    "\n",
    "printme(str = \"My string\");"
   ]
  },
  {
   "cell_type": "code",
   "execution_count": null,
   "metadata": {},
   "outputs": [],
   "source": [
    "#practice 5\n",
    "\n",
    "def printinfo(name, age):\n",
    "    print (\"Name: \", name);\n",
    "    print (\"Age: \", age);\n",
    "    return;\n",
    "printinfo( age = 50, name = \"miki\");"
   ]
  },
  {
   "cell_type": "code",
   "execution_count": null,
   "metadata": {},
   "outputs": [],
   "source": [
    "#practice 6\n",
    "\n",
    "def printinfo(name, age = 35):\n",
    "    print (\"Name: \", name);\n",
    "    print (\"Age: \", age);\n",
    "    return;\n",
    "printinfo( age = 50, name = \"miki\");\n",
    "printinfo( name = \"miki\");"
   ]
  },
  {
   "cell_type": "code",
   "execution_count": null,
   "metadata": {},
   "outputs": [],
   "source": [
    "#practice 7\n",
    "\n",
    "def printinfo(arg1, *vartuple):\n",
    "    print (\"Output is: \")\n",
    "    print (arg1)\n",
    "    for var in vartuple:\n",
    "        print(var)\n",
    "        return;\n",
    "printinfo( 10 );\n",
    "printinfo( 70, 60, 50 );"
   ]
  },
  {
   "cell_type": "code",
   "execution_count": null,
   "metadata": {},
   "outputs": [],
   "source": [
    "# practice 8\n",
    "\n",
    "total = 50;\n",
    "def sum(arg1, arg2):\n",
    "    total = arg1 + arg2;\n",
    "    print (\"Inside the local function total: \", total)\n",
    "    return total;\n",
    "    \n",
    "sum(10, 20);\n",
    "print (\"Outside the local function total: \", total)"
   ]
  },
  {
   "cell_type": "code",
   "execution_count": null,
   "metadata": {},
   "outputs": [],
   "source": [
    "#practice 9\n",
    "\n",
    "def swap(x, y):\n",
    "    a = \"Lawal\"\n",
    "    x,y = y,x\n",
    "    b = \"Chris\"\n",
    "    c = \"Edward\"\n",
    "    d = \"Lola\"\n",
    "    print (a,b,x,y);\n",
    "    a = \"Mary\"\n",
    "swap (\"Tina\", \"Tolu\")\n",
    "printinfo( a );"
   ]
  },
  {
   "cell_type": "code",
   "execution_count": null,
   "metadata": {},
   "outputs": [],
   "source": [
    "# practice 10\n",
    "\n",
    "import tkinter as tk\n",
    "from tkinter import messagebox\n",
    "#handling the button click event\n",
    "def button_click():\n",
    "    #print(\"Button clicked!\")\n",
    "\n",
    "    #show an information message box\n",
    "    messagebox.showinfo(\"info\",\"Welcome to COS 102 GUI App\\n\")\n",
    "\n",
    "    #Ask for user confirmation\n",
    "    result = messagebox.askyesno(\"Confirmation\",\"Do you want to continue??\")\n",
    "#create main window\n",
    "root = tk.Tk()\n",
    "root.title(\"Homepage\")\n",
    "root.geometry(\"300x100\")\n",
    "\n",
    "#add a label widget\n",
    "label = tk.Label(root,text=\"Hello Friend\\n\")\n",
    "label.pack()\n",
    "\n",
    "#add a button widget\n",
    "button = tk.Button(root,text=\"click me!!!\",command=button_click)\n",
    "button.pack()\n",
    "\n",
    "#styling button widget\n",
    "button.config(fg=\"red\",bg=\"yellow\")\n",
    "\n",
    "#start the event loop\n",
    "root.mainloop()"
   ]
  },
  {
   "cell_type": "code",
   "execution_count": null,
   "metadata": {},
   "outputs": [],
   "source": [
    "import tkinter as tk\n",
    "from tkinter import messagebox\n",
    "\n",
    "def welcomemessage(username):\n",
    "    #create Tkinter window\n",
    "    window = tk.Toplevel(root)\n",
    "    window.title(\"Admin Box\")\n",
    "    window.geometry(\"500x200\")\n",
    "\n",
    "    label_1 = tk.Label(window, text=f\"welcome {username}\\n\")\n",
    "    label_1.pack()\n",
    "    label_2 = tk.Label(window, text=\"this is python GUI with Tkinter\")\n",
    "    label_2.pack()\n",
    "\n",
    "    #run the tkinter event loop\n",
    "    root.mainloop()\n",
    "\n",
    "def submit():\n",
    "    username = username_entry.get()\n",
    "    password = password_entry.get()\n",
    "\n",
    "    if username == \"Mary\" and password == \"cos102\":\n",
    "        welcomemessage(username)\n",
    "    else:\n",
    "        messagebox.showerror(\"login\",\"Invalid username or password\")\n",
    "\n",
    "#create main window\n",
    "root = tk.Tk()\n",
    "root.title(\"Login form\")\n",
    "root.geometry(\"500x200\")\n",
    "\n",
    "#create username label and entry\n",
    "username_label = tk.Label(root,text=\"Username\")\n",
    "username_label.pack()\n",
    "username_entry = tk.Entry(root)\n",
    "username_entry.pack()\n",
    "\n",
    "#create password label and entry\n",
    "password_label = tk.Label(root,text=\"Password\")\n",
    "password_label.pack()\n",
    "password_entry = tk.Entry(root,show=\"*\")\n",
    "password_entry.pack()\n",
    "\n",
    "#create submit button\n",
    "submit_button = tk.Button(root,text=\"submit\",command=submit)\n",
    "submit_button.pack()\n",
    "\n",
    "#run the main event loop\n",
    "root.mainloop()"
   ]
  }
 ],
 "metadata": {
  "language_info": {
   "name": "python"
  }
 },
 "nbformat": 4,
 "nbformat_minor": 2
}
