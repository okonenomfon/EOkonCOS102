{
 "cells": [
  {
   "cell_type": "code",
   "execution_count": null,
   "metadata": {},
   "outputs": [],
   "source": [
    "#practice 1\n",
    "\n",
    "city_1 = input('Enter name of City 1: ')\n",
    "city_2 = input('Enter name of City 2: ')\n",
    "\n",
    "temp = city_1\n",
    "city_1 = city_2\n",
    "city_2 = temp\n",
    "\n",
    "print(f\"The name of City 1 after swapping is {city_1}\")\n",
    "print(f\"The name of City 2 after swapping is {city_2}\")"
   ]
  },
  {
   "cell_type": "code",
   "execution_count": null,
   "metadata": {},
   "outputs": [],
   "source": [
    "#practice 2\n",
    "\n",
    "num = float(input(\"Enter a number: \"))\n",
    "if num > 0:\n",
    "    print(\"Positive number\")\n",
    "elif num == 0:\n",
    "    print(\"Zero\")\n",
    "else:\n",
    "    print(\"Negative number\")"
   ]
  },
  {
   "cell_type": "code",
   "execution_count": null,
   "metadata": {},
   "outputs": [],
   "source": [
    "#practce 3 Coupe\n",
    "\n",
    "print(\"Welcome to the COUPE DE ESCRIVA 2023: FOOTBALL PICKS \\n\")\n",
    "\n",
    "captain = {'Madiba: ': 'Chubby Obiora-Okafo', 'Blue-Jays: ': 'Christopher Uweh', 'Cirok: ': 'Alexander', 'TSG Walkers: ': 'Ikechukwu'}\n",
    "\n",
    "goalkeepers = {'Madiba: ': 'Chubby Obiora-Okafo', 'Blue-Jays: ': 'Oladimeji Abaniwondea/ Jeffery Awagu', 'Cirok: ': 'Timileyin Pearse/Izuako', 'TSG Walkers: ': 'Ayomide Ojituku'}"
   ]
  }
 ],
 "metadata": {
  "language_info": {
   "name": "python"
  }
 },
 "nbformat": 4,
 "nbformat_minor": 2
}
