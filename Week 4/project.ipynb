{
 "cells": [
  {
   "cell_type": "code",
   "execution_count": 19,
   "metadata": {},
   "outputs": [
    {
     "ename": "ValueError",
     "evalue": "invalid literal for int() with base 10: 'f'",
     "output_type": "error",
     "traceback": [
      "\u001b[1;31m---------------------------------------------------------------------------\u001b[0m",
      "\u001b[1;31mValueError\u001b[0m                                Traceback (most recent call last)",
      "Cell \u001b[1;32mIn[19], line 7\u001b[0m\n\u001b[0;32m      4\u001b[0m n \u001b[38;5;241m=\u001b[39m \u001b[38;5;28minput\u001b[39m(\u001b[38;5;124m\"\u001b[39m\u001b[38;5;124mEnter name: \u001b[39m\u001b[38;5;124m\"\u001b[39m)\n\u001b[0;32m      5\u001b[0m student[\u001b[38;5;124m\"\u001b[39m\u001b[38;5;124mnames\u001b[39m\u001b[38;5;124m\"\u001b[39m]\u001b[38;5;241m.\u001b[39mappend(n)  \n\u001b[1;32m----> 7\u001b[0m a \u001b[38;5;241m=\u001b[39m \u001b[38;5;28mint\u001b[39m(\u001b[38;5;28minput\u001b[39m(\u001b[38;5;124m\"\u001b[39m\u001b[38;5;124mEnter age: \u001b[39m\u001b[38;5;124m\"\u001b[39m))\n\u001b[0;32m      8\u001b[0m student[\u001b[38;5;124m\"\u001b[39m\u001b[38;5;124mage\u001b[39m\u001b[38;5;124m\"\u001b[39m]\u001b[38;5;241m.\u001b[39mappend(a)  \n\u001b[0;32m     10\u001b[0m h \u001b[38;5;241m=\u001b[39m \u001b[38;5;28mfloat\u001b[39m(\u001b[38;5;28minput\u001b[39m(\u001b[38;5;124m\"\u001b[39m\u001b[38;5;124mEnter height: \u001b[39m\u001b[38;5;124m\"\u001b[39m))\n",
      "\u001b[1;31mValueError\u001b[0m: invalid literal for int() with base 10: 'f'"
     ]
    }
   ],
   "source": [
    "student = {\"names\": [], \"age\": [], \"height\": [], \"scores\": []}\n",
    "\n",
    "for i in range(20):  \n",
    "    n = input(\"Enter name: \")\n",
    "    student[\"names\"].append(n)  \n",
    "\n",
    "    a = int(input(\"Enter age: \"))\n",
    "    student[\"age\"].append(a)  \n",
    "\n",
    "    h = float(input(\"Enter height: \"))\n",
    "    student[\"height\"].append(h)  \n",
    "\n",
    "    s = float(input(\"Enter score: \"))\n",
    "    student[\"scores\"].append(s)  \n",
    "\n",
    "print(f\"{'Name':<20} | {'Age':<10} | {'Height':<10} | {'Score':<10}\")\n"
   ]
  },
  {
   "cell_type": "code",
   "execution_count": 16,
   "metadata": {},
   "outputs": [
    {
     "name": "stdout",
     "output_type": "stream",
     "text": [
      "\n",
      "The ATR is 5,600,000\n"
     ]
    }
   ],
   "source": [
    "# project 2\n",
    "\n",
    "name = input(\"Enter your name: \\n\")\n",
    "a = int(input(\"Enter your age: \\n\"))\n",
    "e = int(input(\"Enter your years of experience: \\n\"))\n",
    "\n",
    "if e > 25 and a >= 55:\n",
    "    print(\"\\nYour ATR is 5,600,000\")\n",
    "\n",
    "elif e > 20 and e <= 25 and a >= 45 and a < 55:\n",
    "    print(\"\\nYour ATR is 4,480,000\")\n",
    "\n",
    "elif e > 10 and e <= 20 and a >= 35 and a < 45:\n",
    "    print(\"\\nYour ATR is 1,500,000\")\n",
    "\n",
    "elif e > 0 and e < 10 and a >= 18 and a < 35:\n",
    "    print(\"Your ATR is 550,000\")\n",
    "\n",
    "else:\n",
    "    print(\"You are not eligible\")    "
   ]
  }
 ],
 "metadata": {
  "kernelspec": {
   "display_name": "base",
   "language": "python",
   "name": "python3"
  },
  "language_info": {
   "codemirror_mode": {
    "name": "ipython",
    "version": 3
   },
   "file_extension": ".py",
   "mimetype": "text/x-python",
   "name": "python",
   "nbconvert_exporter": "python",
   "pygments_lexer": "ipython3",
   "version": "3.11.7"
  }
 },
 "nbformat": 4,
 "nbformat_minor": 2
}
